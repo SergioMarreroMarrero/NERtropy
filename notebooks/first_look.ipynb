{
 "cells": [
  {
   "cell_type": "code",
   "execution_count": 11,
   "id": "6f59af12-16c1-4595-bec4-222e6f6d4ef3",
   "metadata": {},
   "outputs": [],
   "source": [
    "import sys\n",
    "ROOT = Path().cwd().parent\n",
    "sys.path.append(str(ROOT)) "
   ]
  },
  {
   "cell_type": "code",
   "execution_count": 14,
   "id": "78de799a-6d8d-4a34-9bc6-70c22788e0ee",
   "metadata": {},
   "outputs": [
    {
     "data": {
      "text/html": [
       "<div>\n",
       "<style scoped>\n",
       "    .dataframe tbody tr th:only-of-type {\n",
       "        vertical-align: middle;\n",
       "    }\n",
       "\n",
       "    .dataframe tbody tr th {\n",
       "        vertical-align: top;\n",
       "    }\n",
       "\n",
       "    .dataframe thead th {\n",
       "        text-align: right;\n",
       "    }\n",
       "</style>\n",
       "<table border=\"1\" class=\"dataframe\">\n",
       "  <thead>\n",
       "    <tr style=\"text-align: right;\">\n",
       "      <th></th>\n",
       "      <th>raw_docs</th>\n",
       "      <th>clean_docs</th>\n",
       "    </tr>\n",
       "  </thead>\n",
       "  <tbody>\n",
       "    <tr>\n",
       "      <th>0</th>\n",
       "      <td>Michael Novogratz is the founder of finance co...</td>\n",
       "      <td>Michael Novogratz is the founder of finance co...</td>\n",
       "    </tr>\n",
       "    <tr>\n",
       "      <th>1</th>\n",
       "      <td>Goldman Sachs has over-the-counter (OTC) crypt...</td>\n",
       "      <td>Goldman Sachs has over-the-counter (OTC) crypt...</td>\n",
       "    </tr>\n",
       "    <tr>\n",
       "      <th>2</th>\n",
       "      <td>Goldman Sachs and trading unit of Michael Novo...</td>\n",
       "      <td>Goldman Sachs and trading unit of Michael Novo...</td>\n",
       "    </tr>\n",
       "    <tr>\n",
       "      <th>3</th>\n",
       "      <td>over-the-counter (OTC) crypto options was in t...</td>\n",
       "      <td>over-the-counter (OTC) crypto options was in t...</td>\n",
       "    </tr>\n",
       "    <tr>\n",
       "      <th>4</th>\n",
       "      <td>Max Minton is Asia Pacific head of digital ass...</td>\n",
       "      <td>Max Minton is Asia Pacific head of digital ass...</td>\n",
       "    </tr>\n",
       "  </tbody>\n",
       "</table>\n",
       "</div>"
      ],
      "text/plain": [
       "                                            raw_docs  \\\n",
       "0  Michael Novogratz is the founder of finance co...   \n",
       "1  Goldman Sachs has over-the-counter (OTC) crypt...   \n",
       "2  Goldman Sachs and trading unit of Michael Novo...   \n",
       "3  over-the-counter (OTC) crypto options was in t...   \n",
       "4  Max Minton is Asia Pacific head of digital ass...   \n",
       "\n",
       "                                          clean_docs  \n",
       "0  Michael Novogratz is the founder of finance co...  \n",
       "1  Goldman Sachs has over-the-counter (OTC) crypt...  \n",
       "2  Goldman Sachs and trading unit of Michael Novo...  \n",
       "3  over-the-counter (OTC) crypto options was in t...  \n",
       "4  Max Minton is Asia Pacific head of digital ass...  "
      ]
     },
     "execution_count": 14,
     "metadata": {},
     "output_type": "execute_result"
    }
   ],
   "source": [
    "# !python -m spacy download en_core_web_md\n",
    "\n",
    "from config.constants import RELATIVE_DATA_PATH, FILE_NAME\n",
    "from pathlib import Path\n",
    "from config.constants import RELATIVE_DATA_PATH, FILE_NAME\n",
    "from pathlib import Path\n",
    "import pandas as pd\n",
    "import re\n",
    "\n",
    "sbar = \"========================\"\n",
    "lbar = \"====================================================\"\n",
    "lbreak = \"\\n\\n\\n\\n\"\n",
    "\n",
    "file_path = ROOT / RELATIVE_DATA_PATH / FILE_NAME\n",
    "\n",
    "\n",
    "def get_raw_corpus(file_path):\n",
    "    \n",
    "    with open(file_path, 'r', encoding='utf-8') as f:\n",
    "        docs = f.readlines()\n",
    "    \n",
    "    # remove first element\n",
    "    docs.pop(0)\n",
    "        \n",
    "    return docs\n",
    "\n",
    "    \n",
    "docs = get_raw_corpus(file_path=file_path)\n",
    "df = pd.DataFrame(docs, columns=['raw_docs'])\n",
    "\n",
    "\n",
    "df = df.assign(clean_docs = lambda d: d['raw_docs']\n",
    "                                                   .str.replace('\\n', '', regex=True)  # remove \\n\n",
    "                                                   .str.strip())                       # strip each document\n",
    "df.head()"
   ]
  },
  {
   "cell_type": "code",
   "execution_count": 15,
   "id": "e05b4daa-7d51-420b-9d35-312a8804ce03",
   "metadata": {},
   "outputs": [
    {
     "name": "stdout",
     "output_type": "stream",
     "text": [
      "====================================================\n",
      "Michael Novogratz is the founder of finance company Galaxy Digital.\n",
      "====================================================\n",
      "\n",
      "\n",
      "\n",
      "\n",
      "====================================================\n",
      "Goldman Sachs has over-the-counter (OTC) crypto options.\n",
      "====================================================\n",
      "\n",
      "\n",
      "\n",
      "\n",
      "====================================================\n",
      "Goldman Sachs and trading unit of Michael Novogratz’s cryptocurrency investment management firm Galaxy Digital have over-the-counter (OTC) crypto options.\n",
      "====================================================\n",
      "\n",
      "\n",
      "\n",
      "\n"
     ]
    }
   ],
   "source": [
    "\n",
    "\n",
    "# strip docuiments\n",
    "docs = df['clean_docs'].to_list()\n",
    "\n",
    "\n",
    "for doc in docs[:3]:\n",
    "    print(lbar)\n",
    "    print(doc)\n",
    "    print(lbar)\n",
    "    print(\"\\n\\n\\n\")"
   ]
  },
  {
   "cell_type": "code",
   "execution_count": 16,
   "id": "68da8eb4-7c68-4d48-bde2-6777b0a56225",
   "metadata": {},
   "outputs": [],
   "source": [
    "import spacy\n",
    "from spacy import displacy\n",
    "nlp = spacy.load(\"en_core_web_md\")"
   ]
  },
  {
   "cell_type": "code",
   "execution_count": 18,
   "id": "11bc97ac-3ba4-4d20-882e-67df9635e6fa",
   "metadata": {},
   "outputs": [
    {
     "name": "stdout",
     "output_type": "stream",
     "text": [
      "====================================================\n"
     ]
    },
    {
     "data": {
      "text/html": [
       "<span class=\"tex2jax_ignore\"><div class=\"entities\" style=\"line-height: 2.5; direction: ltr\">\n",
       "<mark class=\"entity\" style=\"background: #aa9cfc; padding: 0.45em 0.6em; margin: 0 0.25em; line-height: 1; border-radius: 0.35em;\">\n",
       "    Michael Novogratz\n",
       "    <span style=\"font-size: 0.8em; font-weight: bold; line-height: 1; border-radius: 0.35em; vertical-align: middle; margin-left: 0.5rem\">PERSON</span>\n",
       "</mark>\n",
       " is the founder of finance company \n",
       "<mark class=\"entity\" style=\"background: #7aecec; padding: 0.45em 0.6em; margin: 0 0.25em; line-height: 1; border-radius: 0.35em;\">\n",
       "    Galaxy Digital\n",
       "    <span style=\"font-size: 0.8em; font-weight: bold; line-height: 1; border-radius: 0.35em; vertical-align: middle; margin-left: 0.5rem\">ORG</span>\n",
       "</mark>\n",
       ".</div></span>"
      ],
      "text/plain": [
       "<IPython.core.display.HTML object>"
      ]
     },
     "metadata": {},
     "output_type": "display_data"
    },
    {
     "name": "stdout",
     "output_type": "stream",
     "text": [
      "====================================================\n",
      "\n",
      "\n",
      "\n",
      "\n",
      "\n",
      "====================================================\n"
     ]
    },
    {
     "data": {
      "text/html": [
       "<span class=\"tex2jax_ignore\"><div class=\"entities\" style=\"line-height: 2.5; direction: ltr\">\n",
       "<mark class=\"entity\" style=\"background: #7aecec; padding: 0.45em 0.6em; margin: 0 0.25em; line-height: 1; border-radius: 0.35em;\">\n",
       "    Goldman Sachs\n",
       "    <span style=\"font-size: 0.8em; font-weight: bold; line-height: 1; border-radius: 0.35em; vertical-align: middle; margin-left: 0.5rem\">ORG</span>\n",
       "</mark>\n",
       " has over-the-counter (OTC) crypto options.</div></span>"
      ],
      "text/plain": [
       "<IPython.core.display.HTML object>"
      ]
     },
     "metadata": {},
     "output_type": "display_data"
    },
    {
     "name": "stdout",
     "output_type": "stream",
     "text": [
      "====================================================\n",
      "\n",
      "\n",
      "\n",
      "\n",
      "\n",
      "====================================================\n"
     ]
    },
    {
     "data": {
      "text/html": [
       "<span class=\"tex2jax_ignore\"><div class=\"entities\" style=\"line-height: 2.5; direction: ltr\">\n",
       "<mark class=\"entity\" style=\"background: #7aecec; padding: 0.45em 0.6em; margin: 0 0.25em; line-height: 1; border-radius: 0.35em;\">\n",
       "    Goldman Sachs\n",
       "    <span style=\"font-size: 0.8em; font-weight: bold; line-height: 1; border-radius: 0.35em; vertical-align: middle; margin-left: 0.5rem\">ORG</span>\n",
       "</mark>\n",
       " and trading unit of \n",
       "<mark class=\"entity\" style=\"background: #aa9cfc; padding: 0.45em 0.6em; margin: 0 0.25em; line-height: 1; border-radius: 0.35em;\">\n",
       "    Michael Novogratz’s\n",
       "    <span style=\"font-size: 0.8em; font-weight: bold; line-height: 1; border-radius: 0.35em; vertical-align: middle; margin-left: 0.5rem\">PERSON</span>\n",
       "</mark>\n",
       " cryptocurrency investment management firm \n",
       "<mark class=\"entity\" style=\"background: #7aecec; padding: 0.45em 0.6em; margin: 0 0.25em; line-height: 1; border-radius: 0.35em;\">\n",
       "    Galaxy Digital\n",
       "    <span style=\"font-size: 0.8em; font-weight: bold; line-height: 1; border-radius: 0.35em; vertical-align: middle; margin-left: 0.5rem\">ORG</span>\n",
       "</mark>\n",
       " have over-the-counter (OTC) crypto options.</div></span>"
      ],
      "text/plain": [
       "<IPython.core.display.HTML object>"
      ]
     },
     "metadata": {},
     "output_type": "display_data"
    },
    {
     "name": "stdout",
     "output_type": "stream",
     "text": [
      "====================================================\n",
      "\n",
      "\n",
      "\n",
      "\n",
      "\n"
     ]
    }
   ],
   "source": [
    "for doc in nlp.pipe(docs[:3]):\n",
    "    print(lbar)\n",
    "    displacy.render(doc, style='ent')\n",
    "    print(lbar)\n",
    "    print(lbreak)"
   ]
  },
  {
   "cell_type": "markdown",
   "id": "52932ff9-42f8-422d-a665-e0f4870b0c84",
   "metadata": {},
   "source": [
    "Calculemos las frecuencias de las entidades que tenemos"
   ]
  },
  {
   "cell_type": "code",
   "execution_count": 19,
   "id": "c7c0038c-afc6-4d0c-a8e2-36d0f6634ab4",
   "metadata": {},
   "outputs": [],
   "source": [
    "from collections import Counter\n",
    "\n",
    "def extract_ent_type(text):\n",
    "    doc = nlp(text)\n",
    "    ents = doc.ents\n",
    "    if len(ents) > 0:\n",
    "        ents_type = [ent.label_ for ent in ents]\n",
    "    else:\n",
    "        ents_type = []\n",
    "    return ents_type\n",
    "\n",
    "def extract_ent(text):\n",
    "    doc = nlp(text)\n",
    "    ents = doc.ents\n",
    "    if len(ents) > 0:\n",
    "        ents = [ent.text.lower() for ent in ents]\n",
    "    else:\n",
    "        ents = []\n",
    "    return ents\n",
    "\n",
    "df = (df\n",
    "        .assign(ent_types = lambda d: d['clean_docs'].apply(lambda x: extract_ent_type(x)))\n",
    "        .assign(ents = lambda d: d['clean_docs'].apply(lambda x: extract_ent(x)))\n",
    "     )"
   ]
  },
  {
   "cell_type": "code",
   "execution_count": 26,
   "id": "753f9b02-00e0-446c-b59a-cd4267c1bd38",
   "metadata": {},
   "outputs": [
    {
     "data": {
      "text/plain": [
       "[('ORG', 49), ('PERSON', 14), ('CARDINAL', 4), ('GPE', 4), ('PRODUCT', 3)]"
      ]
     },
     "execution_count": 26,
     "metadata": {},
     "output_type": "execute_result"
    }
   ],
   "source": [
    "what_count = 'ent_types'\n",
    "c = Counter(\n",
    "    [\n",
    "        ent\n",
    "        for l in df[what_count]\n",
    "        for ent in l\n",
    "    ]\n",
    ")\n",
    "d = c.most_common(5)\n",
    "d"
   ]
  },
  {
   "cell_type": "code",
   "execution_count": 31,
   "id": "db1fad26-e7aa-4188-a31b-ec2e3afb249f",
   "metadata": {},
   "outputs": [
    {
     "data": {
      "text/html": [
       "<div>\n",
       "<style scoped>\n",
       "    .dataframe tbody tr th:only-of-type {\n",
       "        vertical-align: middle;\n",
       "    }\n",
       "\n",
       "    .dataframe tbody tr th {\n",
       "        vertical-align: top;\n",
       "    }\n",
       "\n",
       "    .dataframe thead th {\n",
       "        text-align: right;\n",
       "    }\n",
       "</style>\n",
       "<table border=\"1\" class=\"dataframe\">\n",
       "  <thead>\n",
       "    <tr style=\"text-align: right;\">\n",
       "      <th></th>\n",
       "      <th>ents</th>\n",
       "      <th>count</th>\n",
       "    </tr>\n",
       "  </thead>\n",
       "  <tbody>\n",
       "    <tr>\n",
       "      <th>0</th>\n",
       "      <td>ORG</td>\n",
       "      <td>49</td>\n",
       "    </tr>\n",
       "    <tr>\n",
       "      <th>1</th>\n",
       "      <td>PERSON</td>\n",
       "      <td>14</td>\n",
       "    </tr>\n",
       "    <tr>\n",
       "      <th>2</th>\n",
       "      <td>CARDINAL</td>\n",
       "      <td>4</td>\n",
       "    </tr>\n",
       "    <tr>\n",
       "      <th>3</th>\n",
       "      <td>GPE</td>\n",
       "      <td>4</td>\n",
       "    </tr>\n",
       "    <tr>\n",
       "      <th>4</th>\n",
       "      <td>PRODUCT</td>\n",
       "      <td>3</td>\n",
       "    </tr>\n",
       "  </tbody>\n",
       "</table>\n",
       "</div>"
      ],
      "text/plain": [
       "       ents  count\n",
       "0       ORG     49\n",
       "1    PERSON     14\n",
       "2  CARDINAL      4\n",
       "3       GPE      4\n",
       "4   PRODUCT      3"
      ]
     },
     "execution_count": 31,
     "metadata": {},
     "output_type": "execute_result"
    }
   ],
   "source": [
    "df = pd.DataFrame.from_records(list(dict(d).items()), columns=['ents','count'])\n",
    "df"
   ]
  },
  {
   "cell_type": "markdown",
   "id": "ac652e06-deab-48a2-bc74-1da551f0bce6",
   "metadata": {},
   "source": [
    "parece razonable extraer ORG y en todo caso PERSON"
   ]
  }
 ],
 "metadata": {
  "kernelspec": {
   "display_name": "Python 3",
   "language": "python",
   "name": "python3"
  },
  "language_info": {
   "codemirror_mode": {
    "name": "ipython",
    "version": 3
   },
   "file_extension": ".py",
   "mimetype": "text/x-python",
   "name": "python",
   "nbconvert_exporter": "python",
   "pygments_lexer": "ipython3",
   "version": "3.8.10"
  }
 },
 "nbformat": 4,
 "nbformat_minor": 5
}
